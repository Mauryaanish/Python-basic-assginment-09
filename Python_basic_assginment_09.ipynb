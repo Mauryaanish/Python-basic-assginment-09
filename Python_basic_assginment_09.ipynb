{
  "nbformat": 4,
  "nbformat_minor": 0,
  "metadata": {
    "colab": {
      "provenance": []
    },
    "kernelspec": {
      "name": "python3",
      "display_name": "Python 3"
    },
    "language_info": {
      "name": "python"
    }
  },
  "cells": [
    {
      "cell_type": "code",
      "execution_count": null,
      "metadata": {
        "id": "n7ji4tknYrWS"
      },
      "outputs": [],
      "source": []
    },
    {
      "cell_type": "markdown",
      "source": [
        "## 1. To what does a relative path refer?\n",
        "\n",
        "Anser:- Relative paths are relative to the current working directory"
      ],
      "metadata": {
        "id": "shkiAOH9b5p6"
      }
    },
    {
      "cell_type": "code",
      "source": [],
      "metadata": {
        "id": "7KJkDHdNcCg7"
      },
      "execution_count": null,
      "outputs": []
    },
    {
      "cell_type": "markdown",
      "source": [
        "## 2. What does an absolute path start with your operating system?\n",
        "\n",
        "Answer:- Absolute paths start with the root folder, such as / or C:\\."
      ],
      "metadata": {
        "id": "TbmGPIlBcDYh"
      }
    },
    {
      "cell_type": "code",
      "source": [],
      "metadata": {
        "id": "zux-E54VcJQ7"
      },
      "execution_count": null,
      "outputs": []
    },
    {
      "cell_type": "markdown",
      "source": [
        "## 3. What do the functions os.getcwd() and os.chdir() do?\n",
        "\n",
        "Answer:- The os.getcwd() function returns the current working directory. The os.chdir() function changes the current working directory"
      ],
      "metadata": {
        "id": "Dxdxrwg9cJ1i"
      }
    },
    {
      "cell_type": "code",
      "source": [],
      "metadata": {
        "id": "ToP2DT3HcSs7"
      },
      "execution_count": null,
      "outputs": []
    },
    {
      "cell_type": "markdown",
      "source": [
        "## 4. What are the . and .. folders?\n",
        "\n",
        "Answer:- The . folder is the current folder, and .. is the parent folder"
      ],
      "metadata": {
        "id": "eQ4ItUJCcTK5"
      }
    },
    {
      "cell_type": "code",
      "source": [],
      "metadata": {
        "id": "f5MwYuuEcY3D"
      },
      "execution_count": null,
      "outputs": []
    },
    {
      "cell_type": "markdown",
      "source": [
        "## 5. In C:\\bacon\\eggs\\spam.txt, which part is the dir name, and which part is the base name?\n",
        "\n",
        "Answer:-  C:\\bacon\\eggs is the dir name, while spam.txt is the base name."
      ],
      "metadata": {
        "id": "YNU9p1bacZXJ"
      }
    },
    {
      "cell_type": "code",
      "source": [],
      "metadata": {
        "id": "-C2B5poocfMz"
      },
      "execution_count": null,
      "outputs": []
    },
    {
      "cell_type": "markdown",
      "source": [
        "## 6. What are the three “mode” arguments that can be passed to the open() function?\n",
        "\n",
        "Answer:- The string 'r' for read mode, 'w' for write mode, and 'a' for append mode"
      ],
      "metadata": {
        "id": "joROLoz8cfyC"
      }
    },
    {
      "cell_type": "code",
      "source": [],
      "metadata": {
        "id": "iJehwNs1cmSC"
      },
      "execution_count": null,
      "outputs": []
    },
    {
      "cell_type": "markdown",
      "source": [
        "## 7. What happens if an existing file is opened in write mode?\n",
        "\n",
        "Answer:-  An existing file opened in write mode is erased and completely overwritten"
      ],
      "metadata": {
        "id": "g6ghhN1qcmsS"
      }
    },
    {
      "cell_type": "code",
      "source": [],
      "metadata": {
        "id": "uI1DpE1Octfb"
      },
      "execution_count": null,
      "outputs": []
    },
    {
      "cell_type": "markdown",
      "source": [
        "## 8. How do you tell the difference between read() and readlines()?\n",
        "\n",
        "Answer:- The read() method returns the file’s entire contents as a single string value. The readlines() method returns a list of strings, where each string is a line from the file’s contents."
      ],
      "metadata": {
        "id": "QnMalCuTct-K"
      }
    },
    {
      "cell_type": "code",
      "source": [],
      "metadata": {
        "id": "-DLGfGdrczzT"
      },
      "execution_count": null,
      "outputs": []
    },
    {
      "cell_type": "markdown",
      "source": [
        "## 9. What data structure does a shelf value resemble?\n",
        "\n",
        "Answer:-  A shelf value resembles a dictionary value; it has keys and values, along with keys() and values() methods that work similarly to the dictionary methods of the same names\n",
        "\n"
      ],
      "metadata": {
        "id": "JTlMqYYHc0Pp"
      }
    },
    {
      "cell_type": "code",
      "source": [],
      "metadata": {
        "id": "jqLXLf1Kc5rr"
      },
      "execution_count": null,
      "outputs": []
    }
  ]
}